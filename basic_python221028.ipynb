{
  "nbformat": 4,
  "nbformat_minor": 0,
  "metadata": {
    "colab": {
      "provenance": [],
      "authorship_tag": "ABX9TyM+BiMYV6s5T7TAIZT6r0AG",
      "include_colab_link": true
    },
    "kernelspec": {
      "name": "python3",
      "display_name": "Python 3"
    },
    "language_info": {
      "name": "python"
    }
  },
  "cells": [
    {
      "cell_type": "markdown",
      "metadata": {
        "id": "view-in-github",
        "colab_type": "text"
      },
      "source": [
        "<a href=\"https://colab.research.google.com/github/rlaehgus5531/basic_python221028/blob/main/basic_python221028.ipynb\" target=\"_parent\"><img src=\"https://colab.research.google.com/assets/colab-badge.svg\" alt=\"Open In Colab\"/></a>"
      ]
    },
    {
      "cell_type": "code",
      "execution_count": 3,
      "metadata": {
        "colab": {
          "base_uri": "https://localhost:8080/"
        },
        "id": "6R60ZOwoYF6k",
        "outputId": "5573153d-deee-4bf7-84a7-6f4314eef77a"
      },
      "outputs": [
        {
          "output_type": "stream",
          "name": "stdout",
          "text": [
            "x의 값은?:9\n",
            "y의값은?:6\n",
            "두수의 합은: 15\n",
            "두수의 차는: 3\n",
            "두수의 곱은: 54\n",
            "두수의 평균은: 7.5\n",
            "큰수는: 9\n",
            "작은수는: 6\n"
          ]
        }
      ],
      "source": [
        "x = int(input(\"x의 값은?:\"))\n",
        "y=int(input(\"y의값은?:\"))\n",
        "print(\"두수의 합은:\",x + y)\n",
        "print(\"두수의 차는:\",x - y)\n",
        "print(\"두수의 곱은:\",x * y)\n",
        "print(\"두수의 평균은:\",(x + y)/2)\n",
        "print(\"큰수는:\",max(x,y))\n",
        "print(\"작은수는:\", min(x,y))"
      ]
    },
    {
      "cell_type": "code",
      "source": [
        "r = float(input(\"r값은:\"))\n",
        "h = float(input(\"h값은:\"))\n",
        "vol = 3.141592*r**2*h\n",
        "print(\"원기둥의 부피는:\",vol)"
      ],
      "metadata": {
        "colab": {
          "base_uri": "https://localhost:8080/"
        },
        "id": "oPE5hZRDchsM",
        "outputId": "ce8a786f-7c64-4a78-f849-08ccd504051d"
      },
      "execution_count": 6,
      "outputs": [
        {
          "output_type": "stream",
          "name": "stdout",
          "text": [
            "r값은:10\n",
            "h값은:10\n",
            "원기둥의 부피는: 3141.592\n"
          ]
        }
      ]
    }
  ]
}