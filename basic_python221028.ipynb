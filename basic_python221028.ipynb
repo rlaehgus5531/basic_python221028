{
  "nbformat": 4,
  "nbformat_minor": 0,
  "metadata": {
    "colab": {
      "provenance": [],
      "authorship_tag": "ABX9TyML2Bt+aNoeuQ1rS6Qpr/r2",
      "include_colab_link": true
    },
    "kernelspec": {
      "name": "python3",
      "display_name": "Python 3"
    },
    "language_info": {
      "name": "python"
    }
  },
  "cells": [
    {
      "cell_type": "markdown",
      "metadata": {
        "id": "view-in-github",
        "colab_type": "text"
      },
      "source": [
        "<a href=\"https://colab.research.google.com/github/rlaehgus5531/basic_python221028/blob/main/basic_python221028.ipynb\" target=\"_parent\"><img src=\"https://colab.research.google.com/assets/colab-badge.svg\" alt=\"Open In Colab\"/></a>"
      ]
    },
    {
      "cell_type": "code",
      "execution_count": 2,
      "metadata": {
        "colab": {
          "base_uri": "https://localhost:8080/"
        },
        "id": "6R60ZOwoYF6k",
        "outputId": "aa5268c3-9234-419f-d44c-b700ce32752a"
      },
      "outputs": [
        {
          "output_type": "stream",
          "name": "stdout",
          "text": [
            "x의 값은?:10\n",
            "y의값은?:20\n",
            "두수의 합은: 30\n",
            "두수의 차는: -10\n",
            "두수의 곱은: 200\n",
            "두수의 평균은: 15.0\n",
            "큰수는: 20\n",
            "작은수는: 10\n"
          ]
        }
      ],
      "source": [
        "x = int(input(\"x의 값은?:\"))\n",
        "y=int(input(\"y의값은?:\"))\n",
        "print(\"두수의 합은:\",x + y)\n",
        "print(\"두수의 차는:\",x - y)\n",
        "print(\"두수의 곱은:\",x * y)\n",
        "print(\"두수의 평균은:\",(x + y)/2)\n",
        "print(\"큰수는:\",max(x,y))\n",
        "print(\"작은수는:\", min(x,y))"
      ]
    }
  ]
}