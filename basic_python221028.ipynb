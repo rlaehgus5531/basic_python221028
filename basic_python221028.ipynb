{
  "nbformat": 4,
  "nbformat_minor": 0,
  "metadata": {
    "colab": {
      "provenance": [],
      "authorship_tag": "ABX9TyOnnEDwQw4DdjtBLcL5zBWa",
      "include_colab_link": true
    },
    "kernelspec": {
      "name": "python3",
      "display_name": "Python 3"
    },
    "language_info": {
      "name": "python"
    }
  },
  "cells": [
    {
      "cell_type": "markdown",
      "metadata": {
        "id": "view-in-github",
        "colab_type": "text"
      },
      "source": [
        "<a href=\"https://colab.research.google.com/github/rlaehgus5531/basic_python221028/blob/main/basic_python221028.ipynb\" target=\"_parent\"><img src=\"https://colab.research.google.com/assets/colab-badge.svg\" alt=\"Open In Colab\"/></a>"
      ]
    },
    {
      "cell_type": "markdown",
      "source": [
        "1. 사용자로부터 두 개의 정수를 받아서 정수의 합 정수의 차 정수의 곱 졍수의 펑균, 큰\n",
        "수 작은 수를 계산하여 화면에 출럭하는 프로그랩을 작셩하라 파이썬이 제공하는 내\n",
        "장 함수 max(x, y), min(x, y)을 사용해보자.\n"
      ],
      "metadata": {
        "id": "2Yn5YoOSdoOR"
      }
    },
    {
      "cell_type": "code",
      "execution_count": 3,
      "metadata": {
        "colab": {
          "base_uri": "https://localhost:8080/"
        },
        "id": "6R60ZOwoYF6k",
        "outputId": "5573153d-deee-4bf7-84a7-6f4314eef77a"
      },
      "outputs": [
        {
          "output_type": "stream",
          "name": "stdout",
          "text": [
            "x의 값은?:9\n",
            "y의값은?:6\n",
            "두수의 합은: 15\n",
            "두수의 차는: 3\n",
            "두수의 곱은: 54\n",
            "두수의 평균은: 7.5\n",
            "큰수는: 9\n",
            "작은수는: 6\n"
          ]
        }
      ],
      "source": [
        "x = int(input(\"x의 값은?:\"))\n",
        "y=int(input(\"y의값은?:\"))\n",
        "print(\"두수의 합은:\",x + y)\n",
        "print(\"두수의 차는:\",x - y)\n",
        "print(\"두수의 곱은:\",x * y)\n",
        "print(\"두수의 평균은:\",(x + y)/2)\n",
        "print(\"큰수는:\",max(x,y))\n",
        "print(\"작은수는:\", min(x,y)) #김도현"
      ]
    },
    {
      "cell_type": "markdown",
      "source": [
        "2. 원기둥의 부피를 계산하는 프로그램을 작성해보자. 원기둥의 부피는 다음과 같이 계산\n",
        "한다\n"
      ],
      "metadata": {
        "id": "9V5nkUCMdptr"
      }
    },
    {
      "cell_type": "code",
      "source": [
        "r = float(input(\"r값은:\"))\n",
        "h = float(input(\"h값은:\"))\n",
        "vol = 3.141592*r**2*h\n",
        "print(\"원기둥의 부피는:\",vol)   #김도현 제작"
      ],
      "metadata": {
        "colab": {
          "base_uri": "https://localhost:8080/"
        },
        "id": "oPE5hZRDchsM",
        "outputId": "ce8a786f-7c64-4a78-f849-08ccd504051d"
      },
      "execution_count": 6,
      "outputs": [
        {
          "output_type": "stream",
          "name": "stdout",
          "text": [
            "r값은:10\n",
            "h값은:10\n",
            "원기둥의 부피는: 3141.592\n"
          ]
        }
      ]
    },
    {
      "cell_type": "markdown",
      "source": [
        "3. 사용지로부터 정수를 받아서 내 정수의 자리수의 합을 계산하는 프로그램을 작성하여 보\n",
        "자. 예릍 들어서 사용자가 1234를 입럭하였다면 1+2+3+4를 계산하면 된다 나머지 연\n",
        "산자와 정수 나눗셈 연산자 〃를 적극적으로 사용해보자(자리수는 number % 10으로 계산할 수 있다. 10의 자리수는 number = number 〃 10한 후\n",
        "에 등일한 처리를 되풀이 한다. 단 반복문은 사용하지 않는다.)\n",
        "\n"
      ],
      "metadata": {
        "id": "AcRSeAZcdwuX"
      }
    },
    {
      "cell_type": "code",
      "source": [
        "number = int(input(\"정수를 입력하시오.:\"))\n",
        "sum = 0\n",
        "sum = sum + number % 10\n",
        "number = number // 10\n",
        "\n",
        "sum = sum + number % 10\n",
        "number = number // 10\n",
        "\n",
        "sum = sum + number % 10\n",
        "number = number // 10\n",
        "\n",
        "sum = sum + number % 10\n",
        "number = number // 10\n",
        "\n",
        "print(\"자리수의 합은:\" ,str(sum)) "
      ],
      "metadata": {
        "colab": {
          "base_uri": "https://localhost:8080/"
        },
        "id": "jdGaL_e-dz9u",
        "outputId": "7a5d5323-5d79-496d-b700-bfd09ac11120"
      },
      "execution_count": 9,
      "outputs": [
        {
          "output_type": "stream",
          "name": "stdout",
          "text": [
            "정수를 입력하시오.:1234\n",
            "자리수의 합은: 10\n"
          ]
        }
      ]
    },
    {
      "cell_type": "markdown",
      "source": [
        "4. 사용자로부터 두 점의 좌표 (x1, y1)과 (x2, y2)를 입력받아서 두 점 사이의 거리를 계산하는 프로그랩을 작성해보자 스크립트 모드로 작성하라 거리는 다음 식으로 계산한다.\n"
      ],
      "metadata": {
        "id": "kN7yfAY5hHSe"
      }
    },
    {
      "cell_type": "code",
      "source": [
        "x1=int(input(\"x1의값을 입력하시오:\"))\n",
        "x2=int(input(\"x2의값을 입력하시오:\"))\n",
        "y1=int(input(\"y1의값을 입력하시오:\"))\n",
        "y2=int(input(\"y2의값을 입력하시오:\"))\n",
        "dist= ((x2-x1) **2 + (y2 - y1) **2 )**0.5\n",
        "print(\"두점의 사이의 거리는:\", dist,\"입니다\")"
      ],
      "metadata": {
        "colab": {
          "base_uri": "https://localhost:8080/"
        },
        "id": "EXAbxuGIhPYu",
        "outputId": "04080d21-9c41-41bd-a41d-d953f33313d1"
      },
      "execution_count": 14,
      "outputs": [
        {
          "output_type": "stream",
          "name": "stdout",
          "text": [
            "x1의값을 입력하시오:0\n",
            "x2의값을 입력하시오:100\n",
            "y1의값을 입력하시오:0\n",
            "y2의값을 입력하시오:100\n",
            "두점의 사이의 거리는: 141.4213562373095 입니다\n"
          ]
        }
      ]
    },
    {
      "cell_type": "markdown",
      "source": [
        "5. 4번문제에서 계산한거리가 맞는지, 터틀그래픽으로확인해보자. 거북이를 왼쪽으로 45\n",
        "도 회전하여 141만큼 전진시킨다. 다시 거북이\n",
        "를 (0, 0)으로 이동하고 0도를 가리키게 한 후\n",
        "에 100만큼 전진하고 왼쪽으로 90도 회전하여\n",
        "100만큼 전진한다. 화면에 그려진 직선이 일치\n",
        "하는가? (거북이의 방향을 설정하려면 setheading(O)을 사옹하는 것이 편리하다. 예를 들어서 0도를 가리\n",
        "키게 하려면 setheading(0)이 된다.)\n",
        "\n"
      ],
      "metadata": {
        "id": "bRwNDrbrlGv8"
      }
    },
    {
      "cell_type": "code",
      "source": [
        "import turtle\n",
        "t = turtle.Turtle()\n",
        "t. shape(\"turtle\")\n",
        "t.lt(45)\n",
        "t.fd(141)\n",
        "t.setheading(0) \n",
        "t.goto(0,0)\n",
        "t.fd(100)\n",
        "t.lt(90)\n",
        "t.fd(100)"
      ],
      "metadata": {
        "id": "3DK6VCa9nNVo"
      },
      "execution_count": null,
      "outputs": []
    },
    {
      "cell_type": "markdown",
      "source": [
        "6. 사용자로부터 두점을 입력 받아서 터틀그래픽을이용하여 두점을연결하는직선을그\n",
        "린다 직선의 끝점에 직선의 길이를 계산하여 츨럭해보자\n"
      ],
      "metadata": {
        "id": "O9r71QDTnyL0"
      }
    },
    {
      "cell_type": "code",
      "source": [
        "import turtle\n",
        "t = turtle.Turtle()\n",
        "t. shape(\"turtle\")\n",
        "x1 = int(input(\"x1:\"))\n",
        "x1:0\n",
        "y1 = int(input(\"y1:\"))\n",
        "y1:0\n",
        "x2 = int(input(\"x2:\"))\n",
        "x2:100\n",
        "y2 = int(input(\"y2:\"))\n",
        "y2:100\n",
        "dist = ((x2-x1) **2 + (y2 - y1) **2 )**0.5\n",
        "t.up()\n",
        "t.goto(x1,y1)\n",
        "t.down()\n",
        "t.goto(x2,y2)\n",
        "t.write(\"점의길이=\" + str(dist))"
      ],
      "metadata": {
        "id": "F2Icl9u0r9iA"
      },
      "execution_count": null,
      "outputs": []
    }
  ]
}